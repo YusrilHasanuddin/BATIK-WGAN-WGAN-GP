{
  "cells": [
    {
      "cell_type": "markdown",
      "metadata": {
        "id": "view-in-github",
        "colab_type": "text"
      },
      "source": [
        "<a href=\"https://colab.research.google.com/github/YusrilHasanuddin/BATIK-WGAN-WGAN-GP/blob/main/WGAN_Two_Patches.ipynb\" target=\"_parent\"><img src=\"https://colab.research.google.com/assets/colab-badge.svg\" alt=\"Open In Colab\"/></a>"
      ]
    },
    {
      "cell_type": "code",
      "source": [
        "!git clone https://github.com/YusrilHasanuddin/BatikGAN.git"
      ],
      "metadata": {
        "colab": {
          "base_uri": "https://localhost:8080/"
        },
        "id": "aDlDXdPWKYFa",
        "outputId": "a6db1b48-b10f-4fcd-d603-a17b2ead3d03"
      },
      "execution_count": 1,
      "outputs": [
        {
          "output_type": "stream",
          "name": "stdout",
          "text": [
            "Cloning into 'BatikGAN'...\n",
            "remote: Enumerating objects: 517, done.\u001b[K\n",
            "remote: Counting objects: 100% (517/517), done.\u001b[K\n",
            "remote: Compressing objects: 100% (505/505), done.\u001b[K\n",
            "remote: Total 517 (delta 15), reused 505 (delta 8), pack-reused 0\u001b[K\n",
            "Receiving objects: 100% (517/517), 45.12 MiB | 36.99 MiB/s, done.\n",
            "Resolving deltas: 100% (15/15), done.\n"
          ]
        }
      ]
    },
    {
      "cell_type": "code",
      "source": [
        "!mkdir data\n",
        "!mv BatikGAN/dataset_batik/* data\n",
        "!ls data"
      ],
      "metadata": {
        "colab": {
          "base_uri": "https://localhost:8080/"
        },
        "id": "6RAf66zEKZtM",
        "outputId": "b1b96127-0afb-4bba-d61d-ecb7a2ae9a09"
      },
      "execution_count": 3,
      "outputs": [
        {
          "output_type": "stream",
          "name": "stdout",
          "text": [
            "mkdir: cannot create directory ‘data’: File exists\n",
            "Patch  Real-Image\n"
          ]
        }
      ]
    },
    {
      "cell_type": "code",
      "source": [
        "!ls data/Patch"
      ],
      "metadata": {
        "colab": {
          "base_uri": "https://localhost:8080/"
        },
        "id": "OapksvAXLgwK",
        "outputId": "c1b3ba11-ab29-464f-c340-4e5c3c44ec65"
      },
      "execution_count": 4,
      "outputs": [
        {
          "output_type": "stream",
          "name": "stdout",
          "text": [
            " 0051-cl_A.jpg\n",
            " 0051-cl_B.jpg\n",
            " 0167-sample-solo-jateng-btk-s76-L410b_A.jpg\n",
            " 0167-sample-solo-jateng-btk-s76-L410b_B.jpg\n",
            " 0175-cl_A.jpg\n",
            " 0175-cl_B.jpg\n",
            " 0179-cl_A.jpg\n",
            " 0179-cl_B.jpg\n",
            " 06-nitik-randu-seling_A.jpg\n",
            " 06-nitik-randu-seling_B.jpg\n",
            "'10agt 147_A.jpg'\n",
            "'10agt 147_B.jpg'\n",
            " bar-101-batik-yogya-tulis-rakitan-kawung-benggol-ceplok-nogo_A.jpg\n",
            " bar-101-batik-yogya-tulis-rakitan-kawung-benggol-ceplok-nogo_B.jpg\n",
            " batik-cap-motif-nitik_A.jpg\n",
            " batik-cap-motif-nitik_B.jpg\n",
            " batik_Grompol_motif_w_A.jpg\n",
            " batik_Grompol_motif_w_B.jpg\n",
            " Batik-Nitik-Brendi_A.jpg\n",
            " Batik-Nitik-Brendi_B.jpg\n",
            " batik-tulis-nitik-3_A.jpg\n",
            " batik-tulis-nitik-3_B.jpg\n",
            " bbr-004-batik-yogya-kombinasi-rakitan-putri-solo_A.jpg\n",
            " bbr-004-batik-yogya-kombinasi-rakitan-putri-solo_B.jpg\n",
            " ceplok-bintang_A.jpg\n",
            " ceplok-bintang_B.jpg\n",
            " ceplok-bligon1_A.jpg\n",
            " ceplok-bligon1_B.jpg\n",
            " ceplok-ganggong_A.jpg\n",
            " ceplok-ganggong_B.jpg\n",
            " Kawung-Putih-coklat1_A.jpg\n",
            " Kawung-Putih-coklat1_B.jpg\n",
            "'[K]CeplokNitik-S[T]_A.jpg'\n",
            "'[K]CeplokNitik-S[T]_B.jpg'\n",
            " kotak-kawung-peksi-kreno_A.jpg\n",
            " kotak-kawung-peksi-kreno_B.jpg\n",
            " KP001_A.jpg\n",
            " KP001_B.jpg\n",
            " KP002_A.jpg\n",
            " KP002_B.jpg\n",
            " KP006_A.jpg\n",
            " KP006_B.jpg\n",
            " KP008_A.jpg\n",
            " KP008_B.jpg\n",
            " KP009_A.jpg\n",
            " KP009_B.jpg\n",
            " KP025_A.jpg\n",
            " KP025_B.jpg\n",
            " KP027_A.jpg\n",
            " KP027_B.jpg\n",
            " kumbang-sogan-coklat2-09_A.jpg\n",
            " kumbang-sogan-coklat2-09_B.jpg\n",
            " Motif-Batik-Kawung1_A.jpg\n",
            " Motif-Batik-Kawung1_B.jpg\n",
            " motif-batik-kawung_A.jpg\n",
            " motif-batik-kawung_B.jpg\n",
            "'nitik (2)_A.jpg'\n",
            "'nitik (2)_B.jpg'\n",
            " Nitik_A.jpg\n",
            " Nitik_B.jpg\n",
            " NitikCakar_A.JPG\n",
            "'nitik cakar ayam resize_A.jpg'\n",
            "'nitik cakar ayam resize_B.jpg'\n",
            " NitikCakar_B.JPG\n",
            " nitik-cakar-gurdo_A.jpg\n",
            " nitik-cakar-gurdo_B.jpg\n",
            "'nitik-kembang-jeruk1 (1)_A.jpg'\n",
            "'nitik-kembang-jeruk1 (1)_B.jpg'\n",
            " Nitik-kembang-kenanga1_A.jpg\n",
            " Nitik-kembang-kenanga1_B.jpg\n",
            " nitik-kembang-kentang-truntum1_A.jpg\n",
            " nitik-kembang-kentang-truntum1_B.jpg\n",
            "'nitik kemukus jayakirana_A.jpg'\n",
            "'nitik kemukus jayakirana_B.jpg'\n",
            "'Nitik Sekar Tanjung_A.jpg'\n",
            "'Nitik Sekar Tanjung_B.jpg'\n",
            " SC011_A.jpg\n",
            " SC011_B.jpg\n",
            " SC012_A.jpg\n",
            " SC012_B.jpg\n",
            " SC014_A.jpg\n",
            " SC014_B.jpg\n",
            " SC015_A.jpg\n",
            " SC015_B.jpg\n",
            " SC016_A.jpg\n",
            " SC016_B.jpg\n",
            " SC017_A.jpg\n",
            " SC017_B.jpg\n",
            " SC018_A.jpg\n",
            " SC018_B.jpg\n",
            " SC033_A.jpg\n",
            " SC033_B.jpg\n",
            " SC050_A.jpg\n",
            " SC050_B.jpg\n",
            " SC052_A.jpg\n",
            " SC052_B.jpg\n",
            " SC149_A.jpg\n",
            " SC149_B.jpg\n",
            " SC153_A.jpg\n",
            " SC153_B.jpg\n",
            " small_nitik-cakar--ayam_A.jpg\n",
            " small_nitik-cakar--ayam_B.jpg\n",
            "'Solo-Cap-Parang-Ceplok Teblem_A.jpg'\n",
            "'Solo-Cap-Parang-Ceplok Teblem_B.jpg'\n",
            " wiyar-solo-tulis-petilan-ceplok-bledak_A.jpg\n",
            " wiyar-solo-tulis-petilan-ceplok-bledak_B.jpg\n",
            " YC004_A.jpg\n",
            " YC004_B.jpg\n",
            " YC035_A.jpg\n",
            " YC035_B.jpg\n",
            " YC047_A.jpg\n",
            " YC047_B.jpg\n",
            " YC086_A.jpg\n",
            " YC086_B.jpg\n",
            "'YC132(2)_A.jpg'\n",
            "'YC132(2)_B.jpg'\n",
            " YC132_A.jpg\n",
            " YC132_B.jpg\n",
            "'Yogya-Cap-Cabut Solo-Truntum-Sogan (1)_A.jpg'\n",
            "'Yogya-Cap-Cabut Solo-Truntum-Sogan (1)_B.jpg'\n",
            "'Yogya-Cap-Cakar Keong-Cakar,Keong,Parang-Sogan_A.jpg'\n",
            "'Yogya-Cap-Cakar Keong-Cakar,Keong,Parang-Sogan_B.jpg'\n",
            " Yogya-Cap-Ceplok-Ceplok-Sogan_A.jpg\n",
            " Yogya-Cap-Ceplok-Ceplok-Sogan_B.jpg\n",
            "'Yogya-Cap-Ceplok Kawung-Ceplok,Kawung-Sogan_A.jpg'\n",
            "'Yogya-Cap-Ceplok Kawung-Ceplok,Kawung-Sogan_B.jpg'\n",
            "'Yogya-Cap-Ceplok Matahari-Ceplok, Parang,Matahari-Sogan - Copy_A.jpg'\n",
            "'Yogya-Cap-Ceplok Matahari-Ceplok, Parang,Matahari-Sogan - Copy_B.jpg'\n",
            "'Yogya-Cap-Ceplok Sisik Bintang-Parang,Bintang-Sogan_A.jpg'\n",
            "'Yogya-Cap-Ceplok Sisik Bintang-Parang,Bintang-Sogan_B.jpg'\n",
            "'Yogya-Cap-Cepoko Mulyo--Sogan_A.jpg'\n",
            "'Yogya-Cap-Cepoko Mulyo--Sogan_B.jpg'\n",
            " Yogya-Cap-Grompol-Grompol-Sogan_A.jpg\n",
            " Yogya-Cap-Grompol-Grompol-Sogan_B.jpg\n",
            "'Yogya-Cap-Grompol kecil-Grompol-Sogan (1)_A.jpg'\n",
            "'Yogya-Cap-Grompol kecil-Grompol-Sogan (1)_B.jpg'\n",
            "'Yogya-Cap-Gusti Putri-Parang, Kawung,Gurdo-Sogan_A.jpg'\n",
            "'Yogya-Cap-Gusti Putri-Parang, Kawung,Gurdo-Sogan_B.jpg'\n",
            " Yogya-Cap-Jamblang--Sogan_A.jpg\n",
            " Yogya-Cap-Jamblang--Sogan_B.jpg\n",
            "'Yogya-Cap-Kawung Benggol Gurdo-Kawung,Gurdo-Sogan_A.jpg'\n",
            "'Yogya-Cap-Kawung Benggol Gurdo-Kawung,Gurdo-Sogan_B.jpg'\n",
            "'Yogya-Cap-Kawung-Kawung-Sogan (1)_A.jpg'\n",
            "'Yogya-Cap-Kawung-Kawung-Sogan (1)_B.jpg'\n",
            "'Yogya-Cap-Kawung-Kawung-Sogan (2)_A.jpg'\n",
            "'Yogya-Cap-Kawung-Kawung-Sogan (2)_B.jpg'\n",
            "'Yogya-Cap-Kawung-Kawung-Sogan (3)_A.jpg'\n",
            "'Yogya-Cap-Kawung-Kawung-Sogan (3)_B.jpg'\n",
            "'Yogya-Cap-Kawung-Kawung-Sogan (4)_A.jpg'\n",
            "'Yogya-Cap-Kawung-Kawung-Sogan (4)_B.jpg'\n",
            "'Yogya-Cap-Kawung-Kawung-Sogan (5)_A.jpg'\n",
            "'Yogya-Cap-Kawung-Kawung-Sogan (5)_B.jpg'\n",
            "'Yogya-Cap-Kawung-Kawung-Sogan (6)_A.jpg'\n",
            "'Yogya-Cap-Kawung-Kawung-Sogan (6)_B.jpg'\n",
            "'Yogya-Cap-Kawung Parang-Kawung,Truntum,Parang-Sogan (1)_A.jpg'\n",
            "'Yogya-Cap-Kawung Parang-Kawung,Truntum,Parang-Sogan (1)_B.jpg'\n",
            "'Yogya-Cap-Kerton Truntum-Truntum,Nitik,Parang-Sogan_A.jpg'\n",
            "'Yogya-Cap-Kerton Truntum-Truntum,Nitik,Parang-Sogan_B.jpg'\n",
            "'Yogya-Cap-Picis Kembang-Kawung,Kembang-Sogan_A.jpg'\n",
            "'Yogya-Cap-Picis Kembang-Kawung,Kembang-Sogan_B.jpg'\n",
            "'Yogya-Cap-Prabu Kusumo-Parang,Kawung-Sogan_A.jpg'\n",
            "'Yogya-Cap-Prabu Kusumo-Parang,Kawung-Sogan_B.jpg'\n",
            " Yogya-Cap-Purbonegoro-Truntum-Sogan_A.jpg\n",
            " Yogya-Cap-Purbonegoro-Truntum-Sogan_B.jpg\n",
            "'Yogya-Cap-Sawitan Pintu Retno-Truntum-Sogan_A.jpg'\n",
            "'Yogya-Cap-Sawitan Pintu Retno-Truntum-Sogan_B.jpg'\n",
            "'Yogya-Cap-Sidodrajat Truntum-truntum-,Sogan (1)_A.jpg'\n",
            "'Yogya-Cap-Sidodrajat Truntum-truntum-,Sogan (1)_B.jpg'\n",
            "'Yogya-Cap-Sidomulyo--Sogan (1)_A.jpg'\n",
            "'Yogya-Cap-Sidomulyo--Sogan (1)_B.jpg'\n",
            "'Yogya-Cap-Sidomulyo--Sogan (3)_A.jpg'\n",
            "'Yogya-Cap-Sidomulyo--Sogan (3)_B.jpg'\n",
            "'Yogya-Cap-Sidomulyo--Sogan (4)_A.jpg'\n",
            "'Yogya-Cap-Sidomulyo--Sogan (4)_B.jpg'\n",
            "'Yogya-Cap-Sisik Gurdo-Gurdo,Parang-Sogan_A.jpg'\n",
            "'Yogya-Cap-Sisik Gurdo-Gurdo,Parang-Sogan_B.jpg'\n",
            "'Yogya-Cap-Tambal-Truntum,Parang,Kawung-Sogan (1)_A.jpg'\n",
            "'Yogya-Cap-Tambal-Truntum,Parang,Kawung-Sogan (1)_B.jpg'\n",
            "'Yogya-Cap-Truntum Gurdo-Truntum,Gurdo-Sogan (2)_A.jpg'\n",
            "'Yogya-Cap-Truntum Gurdo-Truntum,Gurdo-Sogan (2)_B.jpg'\n",
            "'Yogya-Cap-Truntum-Truntum-Sogan (2)_A.jpg'\n",
            "'Yogya-Cap-Truntum-Truntum-Sogan (2)_B.jpg'\n",
            "'Yogya-Grompol--Sogan (1)_A.jpg'\n",
            "'Yogya-Grompol--Sogan (1)_B.jpg'\n",
            "'Yogya-Grompol--Sogan (2)_A.jpg'\n",
            "'Yogya-Grompol--Sogan (2)_B.jpg'\n",
            "'Yogya-Nitik-Nitik-Sogan (1)_A.jpg'\n",
            "'Yogya-Nitik-Nitik-Sogan (1)_B.jpg'\n",
            "'Yogya-Nitik-Nitik-Sogan (7)_A.jpg'\n",
            "'Yogya-Nitik-Nitik-Sogan (7)_B.jpg'\n",
            "'Yogya-Truntum--Sogan (5)_A.jpg'\n",
            "'Yogya-Truntum--Sogan (5)_B.jpg'\n",
            "'Yogya-Tulis-Abimanyu-Parang-Sogan - Copy_A.jpg'\n",
            "'Yogya-Tulis-Abimanyu-Parang-Sogan - Copy_B.jpg'\n",
            "'Yogya-Tulis-Ambarsari-Gurdo,Parang-Sogan (1)_A.jpg'\n",
            "'Yogya-Tulis-Ambarsari-Gurdo,Parang-Sogan (1)_B.jpg'\n",
            "'Yogya-Tulis-Ambarsari-Parang,Kembang-Sogan (2) - Copy_A.jpg'\n",
            "'Yogya-Tulis-Ambarsari-Parang,Kembang-Sogan (2) - Copy_B.jpg'\n",
            "'Yogya-Tulis-Bligon Cantel-Truntum,Kawung-Sogan_A.jpg'\n",
            "'Yogya-Tulis-Bligon Cantel-Truntum,Kawung-Sogan_B.jpg'\n",
            "'Yogya-Tulis-Bligon Cemukiran-Parang,Kawung-Sogan_A.jpg'\n",
            "'Yogya-Tulis-Bligon Cemukiran-Parang,Kawung-Sogan_B.jpg'\n",
            " Yogya-Tulis-Cakar--Sogan_A.jpg\n",
            " Yogya-Tulis-Cakar--Sogan_B.jpg\n",
            "'Yogya-Tulis-Cantel Jantung-Truntum,Matahari-Sogan_A.jpg'\n",
            "'Yogya-Tulis-Cantel Jantung-Truntum,Matahari-Sogan_B.jpg'\n",
            "'Yogya-Tulis-Ceplok Huk Halus-Truntum-Sogan_A.jpg'\n",
            "'Yogya-Tulis-Ceplok Huk Halus-Truntum-Sogan_B.jpg'\n",
            "'Yogya-Tulis-Ceplok Huk truntum parang-Parang,Ceplok,Gurdo-Sogan_A.jpg'\n",
            "'Yogya-Tulis-Ceplok Huk truntum parang-Parang,Ceplok,Gurdo-Sogan_B.jpg'\n",
            "'Yogya-Tulis-Ceplok Sringit Tumaruntun--Sogan_A.jpg'\n",
            "'Yogya-Tulis-Ceplok Sringit Tumaruntun--Sogan_B.jpg'\n",
            " Yogya-Tulis-Ceplok-Truntum,Bintang-Sogan_A.jpg\n",
            " Yogya-Tulis-Ceplok-Truntum,Bintang-Sogan_B.jpg\n",
            " Yogya-Tulis-Ceplok-Truntum,Cantel-Sogan_A.jpg\n",
            " Yogya-Tulis-Ceplok-Truntum,Cantel-Sogan_B.jpg\n",
            "'Yogya-Tulis-Ceplok Truntum Cantel-Truntum-Sogan (3)_A.jpg'\n",
            "'Yogya-Tulis-Ceplok Truntum Cantel-Truntum-Sogan (3)_B.jpg'\n",
            "'Yogya-Tulis-Ceplok-Truntum-Sogan (1)_A.jpg'\n",
            "'Yogya-Tulis-Ceplok-Truntum-Sogan (1)_B.jpg'\n",
            " Yogya-Tulis-Ceplok-Truntum-Sogan_A.jpg\n",
            " Yogya-Tulis-Ceplok-Truntum-Sogan_B.jpg\n",
            " Yogya-Tulis-Cepoko-Truntum-Sogan_A.jpg\n",
            " Yogya-Tulis-Cepoko-Truntum-Sogan_B.jpg\n",
            " Yogya-Tulis-Godeg-Parang-Sogan_A.jpg\n",
            " Yogya-Tulis-Godeg-Parang-Sogan_B.jpg\n",
            "'Yogya-Tulis-Grompol Riningan--Sogan_A.jpg'\n",
            "'Yogya-Tulis-Grompol Riningan--Sogan_B.jpg'\n",
            "'Yogya-Tulis-Grompol Truntum-Parang,Truntum-Sogan_A.jpg'\n",
            "'Yogya-Tulis-Grompol Truntum-Parang,Truntum-Sogan_B.jpg'\n",
            " Yogya-Tulis-Kasatriyan-Parang,Kawung-Sogan_A.jpg\n",
            " Yogya-Tulis-Kasatriyan-Parang,Kawung-Sogan_B.jpg\n",
            "'Yogya-Tulis-Kawung Bolem-Kawung-Sogan_A.jpg'\n",
            "'Yogya-Tulis-Kawung Bolem-Kawung-Sogan_B.jpg'\n",
            "'Yogya-Tulis-Kawung Ceplok Kawung-Kawung,Ceplok-Sogan_A.jpg'\n",
            "'Yogya-Tulis-Kawung Ceplok Kawung-Kawung,Ceplok-Sogan_B.jpg'\n",
            " Yogya-Tulis-Kencono-Parang,Truntum,Gurdo-Sogan_A.jpg\n",
            " Yogya-Tulis-Kencono-Parang,Truntum,Gurdo-Sogan_B.jpg\n",
            "'Yogya-Tulis-Keteblem Gebel-Truntum-Sogan_A.jpg'\n",
            "'Yogya-Tulis-Keteblem Gebel-Truntum-Sogan_B.jpg'\n",
            "'Yogya-Tulis-Kokrosono--Sogan (1)_A.jpg'\n",
            "'Yogya-Tulis-Kokrosono--Sogan (1)_B.jpg'\n",
            "'Yogya-Tulis-Kotak Bintang-Bintang,Kawung-Sogan_A.jpg'\n",
            "'Yogya-Tulis-Kotak Bintang-Bintang,Kawung-Sogan_B.jpg'\n",
            "'Yogya-Tulis-Kotak Picis-Kawung,Truntum-Sogan_A.jpg'\n",
            "'Yogya-Tulis-Kotak Picis-Kawung,Truntum-Sogan_B.jpg'\n",
            "'Yogya-Tulis-Kupu manis-Truntum,Kupu-Sogan_A.jpg'\n",
            "'Yogya-Tulis-Kupu manis-Truntum,Kupu-Sogan_B.jpg'\n",
            "'Yogya-Tulis-Langen Mulyo-Truntum-Sogan_A.jpg'\n",
            "'Yogya-Tulis-Langen Mulyo-Truntum-Sogan_B.jpg'\n",
            "'Yogya-Tulis-Mendut-Parang,Gurdo-Sogan (3)_A.jpg'\n",
            "'Yogya-Tulis-Mendut-Parang,Gurdo-Sogan (3)_B.jpg'\n",
            "'Yogya-Tulis-Nitik Kembang Jeruk-nitik-Sogan_A.jpg'\n",
            "'Yogya-Tulis-Nitik Kembang Jeruk-nitik-Sogan_B.jpg'\n",
            " Yogya-Tulis-Nogosari--Sogan_A.jpg\n",
            " Yogya-Tulis-Nogosari--Sogan_B.jpg\n",
            "'Yogya-Tulis-Pacar sisik-Peksi-Sogan_A.jpg'\n",
            "'Yogya-Tulis-Pacar sisik-Peksi-Sogan_B.jpg'\n",
            "'Yogya-Tulis-Picis Ceplok Huk-Kawung,Gurdo,Ceplok-Sogan_A.jpg'\n",
            "'Yogya-Tulis-Picis Ceplok Huk-Kawung,Gurdo,Ceplok-Sogan_B.jpg'\n",
            "'Yogya-Tulis-Pintu retno-Truntum-Sogan_A.jpg'\n",
            "'Yogya-Tulis-Pintu retno-Truntum-Sogan_B.jpg'\n",
            "'Yogya-Tulis-Plontang Kusumo-Parang,Truntum-Sogan_A.jpg'\n",
            "'Yogya-Tulis-Plontang Kusumo-Parang,Truntum-Sogan_B.jpg'\n",
            " Yogya-Tulis-Poerbonegoro-Parang,Bintang-Sogan_A.jpg\n",
            " Yogya-Tulis-Poerbonegoro-Parang,Bintang-Sogan_B.jpg\n",
            "'Yogya-Tulis-Prabu Anom Bledak-Truntum-Sogan_A.jpg'\n",
            "'Yogya-Tulis-Prabu Anom Bledak-Truntum-Sogan_B.jpg'\n",
            "'Yogya-Tulis-Prabu anom Truntum grompol Riningan-Truntum,Grompol-Sogan_A.jpg'\n",
            "'Yogya-Tulis-Prabu anom Truntum grompol Riningan-Truntum,Grompol-Sogan_B.jpg'\n",
            "'Yogya-Tulis-Prabu Anom Truntum-Truntum,Gurdo-Sogan_A.jpg'\n",
            "'Yogya-Tulis-Prabu Anom Truntum-Truntum,Gurdo-Sogan_B.jpg'\n",
            "'Yogya-Tulis-Purbonegoro Picis-Kawung-Sogan_A.jpg'\n",
            "'Yogya-Tulis-Purbonegoro Picis-Kawung-Sogan_B.jpg'\n",
            " Yogya-Tulis-Purbonegoro-Truntum-Sogan_A.jpg\n",
            " Yogya-Tulis-Purbonegoro-Truntum-Sogan_B.jpg\n",
            "'Yogya-Tulis-Putri Solo Ukel-Truntum,Gurdo,Ukel-Sogan_A.jpg'\n",
            "'Yogya-Tulis-Putri Solo Ukel-Truntum,Gurdo,Ukel-Sogan_B.jpg'\n",
            "'Yogya-Tulis-Sekar kedaton-Parang,Truntum-Sogan_A.jpg'\n",
            "'Yogya-Tulis-Sekar kedaton-Parang,Truntum-Sogan_B.jpg'\n",
            " Yogya-Tulis-Sidomulyo--Sogan_A.jpg\n",
            " Yogya-Tulis-Sidomulyo--Sogan_B.jpg\n",
            "'Yogya-Tulis-Slobok Seling Klithik-Parang-Sogan_A.jpg'\n",
            "'Yogya-Tulis-Slobok Seling Klithik-Parang-Sogan_B.jpg'\n",
            "'Yogya-Tulis-Sri rejeki-Kawung-Sogan_A.jpg'\n",
            "'Yogya-Tulis-Sri rejeki-Kawung-Sogan_B.jpg'\n",
            " Yogya-Tulis-Suryoningrat-Ceplok,Truntum-Sogan_A.jpg\n",
            " Yogya-Tulis-Suryoningrat-Ceplok,Truntum-Sogan_B.jpg\n",
            " Yogya-Tulis-Tambal-Parang-Sogan_A.jpg\n",
            " Yogya-Tulis-Tambal-Parang-Sogan_B.jpg\n",
            " Yogya-Tulis-Trimino-Truntum-Sogan_A.jpg\n",
            " Yogya-Tulis-Trimino-Truntum-Sogan_B.jpg\n",
            " YT014_A.jpg\n",
            " YT014_B.jpg\n",
            " YT037_A.jpg\n",
            " YT037_B.jpg\n",
            " YT049_A.jpg\n",
            " YT049_B.jpg\n",
            " YT050_A.jpg\n",
            " YT050_B.jpg\n",
            " YT055_A.jpg\n",
            " YT055_B.jpg\n",
            " YT065_A.jpg\n",
            " YT065_B.jpg\n",
            " YT066_A.jpg\n",
            " YT066_B.jpg\n",
            " YT072_A.jpg\n",
            " YT072_B.jpg\n",
            " YT076_A.jpg\n",
            " YT076_B.jpg\n",
            " YT080_A.jpg\n",
            " YT080_B.jpg\n",
            " YT083_A.jpg\n",
            " YT083_B.jpg\n",
            " YT085_A.jpg\n",
            " YT085_B.jpg\n",
            " YT098_A.jpg\n",
            " YT098_B.jpg\n",
            " YT109_A.jpg\n",
            " YT109_B.jpg\n",
            " YT116_A.jpg\n",
            " YT116_B.jpg\n",
            " YT117_A.jpg\n",
            " YT117_B.jpg\n",
            " YT174_A.jpg\n",
            " YT174_B.jpg\n"
          ]
        }
      ]
    },
    {
      "cell_type": "markdown",
      "source": [
        "## Import"
      ],
      "metadata": {
        "id": "jRN7JQyLLusg"
      }
    },
    {
      "cell_type": "code",
      "execution_count": 5,
      "metadata": {
        "id": "Mgk1uNQTKIl6"
      },
      "outputs": [],
      "source": [
        "data_dir = \"data/\"\n",
        "dataset_dir = \"data/Patch/\"\n",
        "\n",
        "\n",
        "import tensorflow as tf\n",
        "\n",
        "from tensorflow import keras\n",
        "from tensorflow.keras.models import Sequential\n",
        "from tensorflow.keras import layers\n",
        "from tensorflow.keras.models import Model\n",
        "from tensorflow.keras.optimizers import Adam\n",
        "from keras.preprocessing import image\n",
        "\n",
        "from matplotlib import pyplot as plt\n",
        "import numpy as np\n",
        "\n",
        "import os"
      ]
    },
    {
      "cell_type": "markdown",
      "source": [
        "## Data"
      ],
      "metadata": {
        "id": "0GyitvnbL7Wx"
      }
    },
    {
      "cell_type": "code",
      "execution_count": 7,
      "metadata": {
        "colab": {
          "base_uri": "https://localhost:8080/"
        },
        "id": "MxN6n-N1KIl8",
        "outputId": "e85f3bf8-0e67-428d-80d6-99df91997296"
      },
      "outputs": [
        {
          "output_type": "stream",
          "name": "stdout",
          "text": [
            "Found 326 files belonging to 1 classes.\n"
          ]
        }
      ],
      "source": [
        "train_images = tf.keras.utils.image_dataset_from_directory(\n",
        "    dataset_dir, label_mode=None, image_size=(64, 64), batch_size=128 # update from 32\n",
        ")"
      ]
    },
    {
      "cell_type": "code",
      "execution_count": 8,
      "metadata": {
        "colab": {
          "base_uri": "https://localhost:8080/",
          "height": 248
        },
        "id": "-c-43X40KIl9",
        "outputId": "d5ea6f27-df82-4503-c45c-4e19a7f7ed8c"
      },
      "outputs": [
        {
          "output_type": "display_data",
          "data": {
            "image/png": "[encoded data removed]",
            "text/plain": [
              "<Figure size 432x288 with 1 Axes>"
            ]
          },
          "metadata": {
            "needs_background": "light"
          }
        }
      ],
      "source": [
        "image_batch = next(iter(train_images))\n",
        "random_index = np.random.choice(image_batch.shape[0])\n",
        "random_image = image_batch[random_index].numpy().astype(\"int32\")\n",
        "\n",
        "# Visualize 1 random image from the training dataset\n",
        "plt.axis(\"off\")\n",
        "plt.imshow(random_image)\n",
        "plt.show()"
      ]
    },
    {
      "cell_type": "code",
      "execution_count": 9,
      "metadata": {
        "id": "9yLbGkolKIl9"
      },
      "outputs": [],
      "source": [
        "def show(images):\n",
        "    plt.figure(figsize=(4, 4))\n",
        "\n",
        "    for i in range(16):\n",
        "        plt.subplot(4, 4, i+1)\n",
        "        img = keras.utils.array_to_img(images[i]) \n",
        "        plt.imshow(img)\n",
        "        plt.axis('off') \n",
        "    plt.show()"
      ]
    },
    {
      "cell_type": "code",
      "execution_count": 10,
      "metadata": {
        "colab": {
          "base_uri": "https://localhost:8080/",
          "height": 248
        },
        "id": "JDhATkkTKIl-",
        "outputId": "26553992-f518-4e4b-e5b6-f8d3e2c5020d"
      },
      "outputs": [
        {
          "output_type": "display_data",
          "data": {
            "image/png": "[encoded data removed]",
            "text/plain": [
              "<Figure size 288x288 with 16 Axes>"
            ]
          },
          "metadata": {
            "needs_background": "light"
          }
        }
      ],
      "source": [
        "# Visualize 16 images from the training dataset\n",
        "show(image_batch[:16])"
      ]
    },
    {
      "cell_type": "code",
      "execution_count": 11,
      "metadata": {
        "id": "pq0LOms2KIl-"
      },
      "outputs": [],
      "source": [
        "# Normalize the images to [-1, 1] which is the range of the tanh activation\n",
        "train_images = train_images.map(lambda x: (x - 127.5) / 127.5)"
      ]
    },
    {
      "cell_type": "markdown",
      "source": [
        "## The Generator\n",
        "\n",
        "Define the generator model architecture with the Keras `Sequential` API.\n",
        "\n",
        "Use `ReLU` except for the last layer which has `tanh` as the activation.\n",
        "\n",
        "The job of the generator is to make images: we feed random noise as input to the generator and upsample it till the desired image size becomes 64x64x3."
      ],
      "metadata": {
        "id": "81XHVErrME4C"
      }
    },
    {
      "cell_type": "code",
      "execution_count": 12,
      "metadata": {
        "id": "jtUW4h1nKIl_"
      },
      "outputs": [],
      "source": [
        "# latent dimension of the random noise\n",
        "LATENT_DIM = 64 \n",
        "# weight initializer for G per DCGAN paper \n",
        "WEIGHT_INIT = tf.keras.initializers.RandomNormal(mean=0.0, stddev=0.02) \n",
        "# number of channels, 1 for gray scale and 3 for color images\n",
        "CHANNELS = 3  "
      ]
    },
    {
      "cell_type": "markdown",
      "source": [
        "## Data Pipeline"
      ],
      "metadata": {
        "id": "FZJk4q1JMM1g"
      }
    },
    {
      "cell_type": "code",
      "execution_count": 13,
      "metadata": {
        "id": "4b8enZfvKIl_"
      },
      "outputs": [],
      "source": [
        "class DataPipeline:\n",
        "    def __init__(self):\n",
        "        # self.path = path\n",
        "        self\n",
        "\n",
        "    def load_data(self, path, size):\n",
        "        list_img = list()\n",
        "        for filename in os.listdir(path):\n",
        "                # load and resize the image\n",
        "            img = image.load_img(path + filename, target_size=size)\n",
        "            # convert to numpy array\n",
        "            img = image.img_to_array(img)\n",
        "            # Convert to lower case\n",
        "            path_file = (path + filename).lower()\n",
        "            # store\n",
        "            list_img.append([path_file, img])\n",
        "        img_sorted = sorted(list_img)\n",
        "        img_arr = np.asarray([i[1] for i in img_sorted])\n",
        "\n",
        "        return img_arr\n",
        "\n",
        "    def concat_image(self, patch_a, patch_b):\n",
        "        def h(patch_a, patch_b):\n",
        "            h = tf.concat([patch_a, patch_b, patch_a, patch_b], 1)\n",
        "            return h\n",
        "        v = tf.concat([h(patch_a, patch_b), h(patch_b, patch_a), \n",
        "                       h(patch_a, patch_b), h(patch_b, patch_a)], 2)\n",
        "        return v\n",
        "\n",
        "    def normalisasi(self, A, B):\n",
        "        A = tf.cast(A, dtype=tf.float32)\n",
        "        A = (A-127.5)/127.5\n",
        "        B = tf.cast(B, dtype=tf.float32)\n",
        "        B = (B-127.5)/127.5\n",
        "        img = self.concat_image(tf.expand_dims(A, axis=0), \n",
        "                                tf.expand_dims(B, axis=0))[0]\n",
        "        return A, B, img\n",
        "\n",
        "    def execute(self):\n",
        "        # dataset = self.load_data()\n",
        "        path = data_dir\n",
        "        data_patch = self.load_data(path + 'Patch/', (64, 64))\n",
        "\n",
        "        patch_a = data_patch[[i for i in range(326) if i % 2 == 0]]\n",
        "        patch_b = data_patch[[i for i in range(326) if i % 2 != 0]]\n",
        "\n",
        "        dataset = tf.data.Dataset.from_tensor_slices((patch_a, patch_b))\n",
        "\n",
        "        # # AUTOTUNE = tf.data.experimental.AUTOTUNE\n",
        "        dataset = dataset.map(self.normalisasi, num_parallel_calls=-1).cache()\n",
        "        dataset = dataset.batch(1, drop_remainder=True).repeat(1)\n",
        "        dataset = dataset.prefetch(1)\n",
        "        return dataset"
      ]
    },
    {
      "cell_type": "code",
      "execution_count": 14,
      "metadata": {
        "id": "hDP-FmVXKImA"
      },
      "outputs": [],
      "source": [
        "dataset = DataPipeline().execute()"
      ]
    },
    {
      "cell_type": "code",
      "execution_count": 15,
      "metadata": {
        "colab": {
          "base_uri": "https://localhost:8080/"
        },
        "id": "o6vTiTn1KImA",
        "outputId": "f670ac5c-303d-4a51-d33f-3da8c25d6fca"
      },
      "outputs": [
        {
          "output_type": "execute_result",
          "data": {
            "text/plain": [
              "<PrefetchDataset shapes: ((1, 64, 64, 3), (1, 64, 64, 3), (1, 256, 256, 3)), types: (tf.float32, tf.float32, tf.float32)>"
            ]
          },
          "metadata": {},
          "execution_count": 15
        }
      ],
      "source": [
        "dataset"
      ]
    },
    {
      "cell_type": "code",
      "execution_count": 16,
      "metadata": {
        "id": "aiACY1TPKImB"
      },
      "outputs": [],
      "source": [
        "def build_generator():\n",
        "    # create a Keras Sequential model \n",
        "    model = Sequential(name=\"generator\")\n",
        "\n",
        "    # prepare for reshape: FC => BN => RN layers, note: input shape defined in the 1st Dense layer  \n",
        "    model.add(layers.Dense(8 * 8 * 512, input_dim=LATENT_DIM))\n",
        "    # model.add(layers.BatchNormalization()) \n",
        "    model.add(layers.ReLU())\n",
        "    # layers.LeakyReLU(alpha=0.2),\n",
        "\n",
        "    # 1D => 3D: reshape the output of the previous layer \n",
        "    model.add(layers.Reshape((8, 8, 512)))\n",
        "\n",
        "    # upsample to 16x16: apply a transposed CONV => BN => RELU\n",
        "    model.add(layers.Conv2DTranspose(256, (4, 4), \n",
        "                                     strides=(2, 2), \n",
        "                                     padding=\"same\", \n",
        "                                     use_bias=False, \n",
        "                                     kernel_initializer=WEIGHT_INIT))\n",
        "    model.add(layers.BatchNormalization()) # Margaret exp: add back bach norm\n",
        "    model.add((layers.ReLU()))\n",
        "\n",
        "    # upsample to 32x32: apply a transposed CONV => BN => RELU\n",
        "    model.add(layers.Conv2DTranspose(128, (4, 4), \n",
        "                                     strides=(2, 2), \n",
        "                                     padding=\"same\", \n",
        "                                     use_bias=False, \n",
        "                                     kernel_initializer=WEIGHT_INIT))\n",
        "    model.add(layers.BatchNormalization()) # Margaret exp: add back bach norm\n",
        "    model.add((layers.ReLU()))\n",
        "\n",
        "    # upsample to 64x64: apply a transposed CONV => BN => RELU\n",
        "    model.add(layers.Conv2DTranspose(64, (4, 4), \n",
        "                                     strides=(2, 2), \n",
        "                                     padding=\"same\", \n",
        "                                     use_bias=False, \n",
        "                                     kernel_initializer=WEIGHT_INIT))\n",
        "    model.add(layers.BatchNormalization()) # Margaret exp: add back bach norm\n",
        "    model.add((layers.ReLU()))\n",
        "    \n",
        "\n",
        "    # final layer: Conv2D with tanh activation\n",
        "    model.add(layers.Conv2D(CHANNELS, (4, 4), padding=\"same\", activation=\"tanh\"))\n",
        "\n",
        "    # return the generator model\n",
        "    return model"
      ]
    },
    {
      "cell_type": "code",
      "execution_count": 17,
      "metadata": {
        "id": "ivP7ynWcKImB"
      },
      "outputs": [],
      "source": [
        "# build the generator model\n",
        "generator = build_generator() "
      ]
    },
    {
      "cell_type": "code",
      "execution_count": 18,
      "metadata": {
        "colab": {
          "base_uri": "https://localhost:8080/"
        },
        "id": "4Nkr29PaKImB",
        "outputId": "2f5e0ac8-ab5f-4a5d-eaf9-20ebc8ab6853"
      },
      "outputs": [
        {
          "output_type": "stream",
          "name": "stdout",
          "text": [
            "Model: \"generator\"\n",
            "_________________________________________________________________\n",
            " Layer (type)                Output Shape              Param #   \n",
            "=================================================================\n",
            " dense (Dense)               (None, 32768)             2129920   \n",
            "                                                                 \n",
            " re_lu (ReLU)                (None, 32768)             0         \n",
            "                                                                 \n",
            " reshape (Reshape)           (None, 8, 8, 512)         0         \n",
            "                                                                 \n",
            " conv2d_transpose (Conv2DTra  (None, 16, 16, 256)      2097152   \n",
            " nspose)                                                         \n",
            "                                                                 \n",
            " batch_normalization (BatchN  (None, 16, 16, 256)      1024      \n",
            " ormalization)                                                   \n",
            "                                                                 \n",
            " re_lu_1 (ReLU)              (None, 16, 16, 256)       0         \n",
            "                                                                 \n",
            " conv2d_transpose_1 (Conv2DT  (None, 32, 32, 128)      524288    \n",
            " ranspose)                                                       \n",
            "                                                                 \n",
            " batch_normalization_1 (Batc  (None, 32, 32, 128)      512       \n",
            " hNormalization)                                                 \n",
            "                                                                 \n",
            " re_lu_2 (ReLU)              (None, 32, 32, 128)       0         \n",
            "                                                                 \n",
            " conv2d_transpose_2 (Conv2DT  (None, 64, 64, 64)       131072    \n",
            " ranspose)                                                       \n",
            "                                                                 \n",
            " batch_normalization_2 (Batc  (None, 64, 64, 64)       256       \n",
            " hNormalization)                                                 \n",
            "                                                                 \n",
            " re_lu_3 (ReLU)              (None, 64, 64, 64)        0         \n",
            "                                                                 \n",
            " conv2d (Conv2D)             (None, 64, 64, 3)         3075      \n",
            "                                                                 \n",
            "=================================================================\n",
            "Total params: 4,887,299\n",
            "Trainable params: 4,886,403\n",
            "Non-trainable params: 896\n",
            "_________________________________________________________________\n"
          ]
        }
      ],
      "source": [
        "generator.summary()"
      ]
    },
    {
      "cell_type": "markdown",
      "source": [
        "## The Critic\n",
        "In WGAN we have a critic instead of a discriminator.\n",
        "If you are updating a DCGAN to a WGAN, you can use the “Find and replace” in Colab for the updates.\n"
      ],
      "metadata": {
        "id": "cdf82LJ8MViQ"
      }
    },
    {
      "cell_type": "code",
      "execution_count": 19,
      "metadata": {
        "id": "LUsqQ0g9KImC"
      },
      "outputs": [],
      "source": [
        "# UPDATE for WGAN: a new class implementing weight clipping constraint\n",
        "class WeightClipping(tf.keras.constraints.Constraint):\n",
        "    def __init__(self, clip_value):\n",
        "        self.clip_value = clip_value\n",
        "    \n",
        "    def __call__(self, weights):\n",
        "        return tf.clip_by_value(weights, -self.clip_value, self.clip_value)\n",
        "    \n",
        "    def get_config(self):\n",
        "        return {'clip_value': self.clip_value}"
      ]
    },
    {
      "cell_type": "code",
      "execution_count": 20,
      "metadata": {
        "id": "Rsadyk6eKImC"
      },
      "outputs": [],
      "source": [
        "def build_critic(height, width, depth, alpha=0.2):\n",
        "    #UPDATE for WGAN: enfoce 1-Lipschitz constraint with weight clippping to [-1, 1] \n",
        "    constraint = WeightClipping(0.01)\n",
        "\n",
        "    # create a Keras Sequential model\n",
        "    model = Sequential(name=\"critic\")\n",
        "    input_shape = (height, width, depth)\n",
        "\n",
        "    # 1. first set of CONV => BN => leaky ReLU layers\n",
        "    model.add(layers.Conv2D(64, (4, 4), padding=\"same\", \n",
        "                            strides=(2, 2),\n",
        "                            kernel_constraint = constraint, # UPDATE for WGAN\n",
        "                            input_shape=input_shape))\n",
        "    # model.add(layers.BatchNormalization()) \n",
        "    model.add(layers.LeakyReLU(alpha=alpha))\n",
        "\n",
        "    # 2. second set of CONV => BN => leacy ReLU layers\n",
        "    model.add(layers.Conv2D(128, (4, 4), padding=\"same\", \n",
        "                            strides=(2, 2), \n",
        "                            kernel_constraint = constraint,)) # UPDATE for WGAN\n",
        "    # model.add(layers.BatchNormalization()) \n",
        "    model.add(layers.LeakyReLU(alpha=alpha))\n",
        "\n",
        "    # 3. third set of CONV => BN => leacy ReLU layers\n",
        "    model.add(layers.Conv2D(128, (4, 4), padding=\"same\", \n",
        "                            strides=(2, 2),\n",
        "                            kernel_constraint = constraint,)) # UPDATE for WGAN\n",
        "    # model.add(layers.BatchNormalization())\n",
        "    model.add(layers.LeakyReLU(alpha=alpha))\n",
        "\n",
        "    # flatten and apply dropout\n",
        "    model.add(layers.Flatten())\n",
        "    model.add(layers.Dropout(0.3)) \n",
        "\n",
        "    # UPDATE for WGAN: linear activation in the last layer. \n",
        "    # Note: Keras `Dense` layer by default is already a `linear` activation\n",
        "    model.add(layers.Dense(1, activation=\"linear\"))\n",
        "\n",
        "    # return the critic model\n",
        "    return model"
      ]
    },
    {
      "cell_type": "code",
      "execution_count": 21,
      "metadata": {
        "id": "NQxNBlXDKImC"
      },
      "outputs": [],
      "source": [
        "# build the critic model\n",
        "critic = build_critic(64, 64, 3) "
      ]
    },
    {
      "cell_type": "code",
      "execution_count": 22,
      "metadata": {
        "colab": {
          "base_uri": "https://localhost:8080/"
        },
        "id": "1KVX1H6ZKImC",
        "outputId": "793ca084-c16b-4e15-e7e8-9121a22547f9"
      },
      "outputs": [
        {
          "output_type": "stream",
          "name": "stdout",
          "text": [
            "Model: \"critic\"\n",
            "_________________________________________________________________\n",
            " Layer (type)                Output Shape              Param #   \n",
            "=================================================================\n",
            " conv2d_1 (Conv2D)           (None, 32, 32, 64)        3136      \n",
            "                                                                 \n",
            " leaky_re_lu (LeakyReLU)     (None, 32, 32, 64)        0         \n",
            "                                                                 \n",
            " conv2d_2 (Conv2D)           (None, 16, 16, 128)       131200    \n",
            "                                                                 \n",
            " leaky_re_lu_1 (LeakyReLU)   (None, 16, 16, 128)       0         \n",
            "                                                                 \n",
            " conv2d_3 (Conv2D)           (None, 8, 8, 128)         262272    \n",
            "                                                                 \n",
            " leaky_re_lu_2 (LeakyReLU)   (None, 8, 8, 128)         0         \n",
            "                                                                 \n",
            " flatten (Flatten)           (None, 8192)              0         \n",
            "                                                                 \n",
            " dropout (Dropout)           (None, 8192)              0         \n",
            "                                                                 \n",
            " dense_1 (Dense)             (None, 1)                 8193      \n",
            "                                                                 \n",
            "=================================================================\n",
            "Total params: 404,801\n",
            "Trainable params: 404,801\n",
            "Non-trainable params: 0\n",
            "_________________________________________________________________\n"
          ]
        }
      ],
      "source": [
        "critic.summary()"
      ]
    },
    {
      "cell_type": "markdown",
      "source": [
        "## WGAN"
      ],
      "metadata": {
        "id": "jFnico__Mj48"
      }
    },
    {
      "cell_type": "markdown",
      "source": [
        "Subclass `keras.Model` to implement WGAN and override `train_step()` to implement custom training steps for training the critic and generator in WGAN."
      ],
      "metadata": {
        "id": "0cm2XmVSMldJ"
      }
    },
    {
      "cell_type": "code",
      "execution_count": 23,
      "metadata": {
        "id": "9jFQI2d2KImC"
      },
      "outputs": [],
      "source": [
        "class WGAN(keras.Model):\n",
        "    def __init__(self, \n",
        "                 critic, \n",
        "                 generator, \n",
        "                 latent_dim, \n",
        "                 critic_extra_steps): # UPDATE\n",
        "        super().__init__()\n",
        "        self.critic = critic\n",
        "        self.generator = generator\n",
        "        self.latent_dim = latent_dim\n",
        "        self.c_extra_steps = critic_extra_steps\n",
        "        self.d_loss_metric = keras.metrics.Mean(name=\"d_loss\")\n",
        "        self.g_loss_metric = keras.metrics.Mean(name=\"g_loss\")\n",
        "\n",
        "    def compile(self, d_optimizer, g_optimizer, d_loss_fn, g_loss_fn):\n",
        "        super(WGAN, self).compile()\n",
        "        self.d_optimizer = d_optimizer\n",
        "        self.g_optimizer = g_optimizer\n",
        "        self.d_loss_fn = d_loss_fn\n",
        "        self.g_loss_fn = g_loss_fn\n",
        "\n",
        "    @property\n",
        "    def metrics(self):\n",
        "        return [self.d_loss_metric, self.g_loss_metric]\n",
        "\n",
        "    # UPDATE for WGAN: remove the code of real / fake labels\n",
        "    def train_step(self, real_images):\n",
        "\n",
        "        batch_size = tf.shape(real_images)[0]\n",
        "        noise = tf.random.normal(shape=(batch_size, self.latent_dim))\n",
        "\n",
        "        # UPDATE for WGAN: we train the critic more often than the generator by 5 times (self.c_extra_steps) \n",
        "        for i in range(self.c_extra_steps):\n",
        "            # Step 1. Train the critic with both real images and fake images \n",
        "            with tf.GradientTape() as tape:\n",
        "                # Get the critic' predictions on the real images\n",
        "                pred_real = self.critic(real_images, training=True)\n",
        "                # Generate fake images from the latent noise\n",
        "                fake_images = self.generator(noise, training=True) \n",
        "                # Get the critic' predictions on the fake images\n",
        "                pred_fake = self.critic(fake_images, training=True)\n",
        "                # Calculate the critic loss with wassertein loss function\n",
        "                d_loss = self.d_loss_fn(pred_real, pred_fake)\n",
        "            # Compute critic gradients\n",
        "            grads = tape.gradient(d_loss, self.critic.trainable_variables)\n",
        "            # Update critic weights\n",
        "            self.d_optimizer.apply_gradients(zip(grads, self.critic.trainable_variables))\n",
        "\n",
        "        # Step 2. Train the generator (do not update weights of the critic)\n",
        "        with tf.GradientTape() as tape:\n",
        "            fake_images = self.generator(noise, training=True)\n",
        "            pred_fake = self.critic(fake_images, training=True)\n",
        "            g_loss = self.g_loss_fn(pred_fake) \n",
        "        # Compute generator gradients\n",
        "        grads = tape.gradient(g_loss, self.generator.trainable_variables)\n",
        "        # Update generator weights\n",
        "        self.g_optimizer.apply_gradients(zip(grads, self.generator.trainable_variables))\n",
        "\n",
        "        self.d_loss_metric.update_state(d_loss)\n",
        "        self.g_loss_metric.update_state(g_loss)\n",
        "\n",
        "        return {\"d_loss\": self.d_loss_metric.result(), \"g_loss\": self.g_loss_metric.result()}"
      ]
    },
    {
      "cell_type": "markdown",
      "source": [
        "## Use Keras Callback to monitor training"
      ],
      "metadata": {
        "id": "7WD2vkedMwEj"
      }
    },
    {
      "cell_type": "markdown",
      "source": [
        "The nice thing about overriding `train_step()` of `keras.Model()` is that we can subclass `Callback` to monitor our DCGAN training.\n",
        "\n",
        "I use the seed noise to create images (with the generator model) throughout the training to see the progress of the generator is making. Also saved the generator model at the end of the training which could potentially be used for inference later."
      ],
      "metadata": {
        "id": "aikiYiSDMw8y"
      }
    },
    {
      "cell_type": "code",
      "execution_count": 24,
      "metadata": {
        "id": "xkhC9PqrKImD"
      },
      "outputs": [],
      "source": [
        "class GANMonitor(keras.callbacks.Callback):\n",
        "    def __init__(self, num_img=3, latent_dim=100):\n",
        "        self.num_img = num_img\n",
        "        self.latent_dim = latent_dim\n",
        "\n",
        "        # Create random noise seed for visualization during traing\n",
        "        self.seed = tf.random.normal([16, latent_dim])\n",
        "\n",
        "    def on_epoch_end(self, epoch, logs=None):\n",
        "        sequence = [i for i in range(163)]\n",
        "        _patchA = list([img[0] for img in list(dataset.as_numpy_iterator())])[0] #[random.choice(sequence)]\n",
        "        _patchB = list([img[1] for img in list(dataset.as_numpy_iterator())])[0] #[random.choice(sequence)]\n",
        "        generated_images = self.model.generator([_patchA, \n",
        "                                                 _patchB])\n",
        "\n",
        "        if (epoch+1)%20==0:\n",
        "            _, ax = plt.subplots(1, 3, figsize=(10, 10))\n",
        "            ax[0].imshow((_patchA[0]+1)/2)\n",
        "            ax[1].imshow((_patchB[0]+1)/2)\n",
        "            ax[2].imshow((generated_images[0]+1)/2)\n",
        "            ax[0].set_title(\"Input image A\")\n",
        "            ax[1].set_title(\"Input image B\")\n",
        "            ax[2].set_title(\"Translated image\")\n",
        "            ax[0].axis(\"off\")\n",
        "            ax[1].axis(\"off\")\n",
        "            ax[2].axis(\"off\")\n",
        "\n",
        "            plt.show()\n",
        "\n",
        "    def on_train_end(self, logs=None):\n",
        "        self.model.generator.save('generator.h5')"
      ]
    },
    {
      "cell_type": "markdown",
      "source": [
        "## Compile and Train WGAN\n",
        "\n",
        "Compile the `wgan` model with the `RMSprop` optimizer (a learning rate of 0.00005) as recommended by the paper, and the **Wasserstein loss** "
      ],
      "metadata": {
        "id": "LtWum-BQM2og"
      }
    },
    {
      "cell_type": "markdown",
      "source": [
        "### Putting together the `wgan` model"
      ],
      "metadata": {
        "id": "9QWfPIYhM6am"
      }
    },
    {
      "cell_type": "code",
      "execution_count": 25,
      "metadata": {
        "id": "PtchWyOWKImD"
      },
      "outputs": [],
      "source": [
        "wgan = WGAN(critic=critic, \n",
        "              generator=generator, \n",
        "              latent_dim=LATENT_DIM,\n",
        "              critic_extra_steps=5) # UPDATE for WGAN"
      ]
    },
    {
      "cell_type": "markdown",
      "source": [
        "### Wasserstein loss"
      ],
      "metadata": {
        "id": "Qws377mdM8jq"
      }
    },
    {
      "cell_type": "code",
      "execution_count": 26,
      "metadata": {
        "id": "4vkVHtrUKImD"
      },
      "outputs": [],
      "source": [
        "# Wasserstein loss for the critic\n",
        "def d_wasserstein_loss(pred_real, pred_fake):\n",
        "    real_loss = tf.reduce_mean(pred_real)\n",
        "    fake_loss = tf.reduce_mean(pred_fake)\n",
        "    return fake_loss - real_loss\n",
        "\n",
        "# Wasserstein loss for the generator\n",
        "def g_wasserstein_loss(pred_fake):\n",
        "    return -tf.reduce_mean(pred_fake)"
      ]
    },
    {
      "cell_type": "markdown",
      "source": [
        "### Compile WGAN"
      ],
      "metadata": {
        "id": "RVLM9huANC4h"
      }
    },
    {
      "cell_type": "code",
      "execution_count": 27,
      "metadata": {
        "id": "GdxcGswMKImD"
      },
      "outputs": [],
      "source": [
        "LR = 0.00005 # UPDATE for WGAN: learning rate per WGAN paper"
      ]
    },
    {
      "cell_type": "code",
      "execution_count": 28,
      "metadata": {
        "id": "R86XBrDiKImE"
      },
      "outputs": [],
      "source": [
        "wgan.compile(\n",
        "    d_optimizer = keras.optimizers.RMSprop(learning_rate=LR, clipvalue=1.0, decay=1e-8), # UPDATE for WGAN: use RMSProp instead of Adam\n",
        "    g_optimizer = keras.optimizers.RMSprop(learning_rate=LR, clipvalue=1.0, decay=1e-8), # UPDATE for WGAN: use RMSProp instead of Adam\n",
        "    d_loss_fn = d_wasserstein_loss,\n",
        "    g_loss_fn = g_wasserstein_loss\n",
        ")"
      ]
    },
    {
      "cell_type": "markdown",
      "source": [
        "### Train WGAN"
      ],
      "metadata": {
        "id": "STbWp6KUNHCT"
      }
    },
    {
      "cell_type": "markdown",
      "source": [
        "Now we simply call `model.fit()` to train the `wgan` model!"
      ],
      "metadata": {
        "id": "uND7jzszNJ7C"
      }
    },
    {
      "cell_type": "code",
      "execution_count": 29,
      "metadata": {
        "id": "TpPpjZf-KImE"
      },
      "outputs": [],
      "source": [
        "#NUM_EPOCHS = 1000 # number of epochs\n",
        "#wgan.fit(train_images, epochs=NUM_EPOCHS, callbacks=[GANMonitor(num_img=16, latent_dim=LATENT_DIM)])"
      ]
    },
    {
      "cell_type": "code",
      "execution_count": 30,
      "metadata": {
        "id": "KZJHs-ESKImE"
      },
      "outputs": [],
      "source": [
        "NUM_EPOCHS = 1000\n",
        "WEIGHT_LOSS = {'adversarial':1, \n",
        "               'local_l2':1, \n",
        "               'style_loss':10, \n",
        "               'adversarial_local':100, \n",
        "               'local_style_loss':1,\n",
        "               'content_loss':0}\n",
        "LIST_WEIGHT_CONTENT_LOSS = [1,10,100]"
      ]
    },
    {
      "cell_type": "markdown",
      "source": [
        "##Tailor Two Patches"
      ],
      "metadata": {
        "id": "sI5Wb-MsNLwB"
      }
    },
    {
      "cell_type": "code",
      "execution_count": 31,
      "metadata": {
        "colab": {
          "base_uri": "https://localhost:8080/",
          "height": 1000
        },
        "id": "TC9jXLVtKImE",
        "outputId": "76d8cb03-c87e-4155-9159-2cc7f7868031"
      },
      "outputs": [
        {
          "output_type": "stream",
          "name": "stdout",
          "text": [
            "--- Starting training: ContentLoss-1\n",
            "Epoch 1/1000\n",
            "3/3 [==============================] - ETA: 0s - d_loss: -0.0071 - g_loss: 0.0062 "
          ]
        },
        {
          "output_type": "error",
          "ename": "ValueError",
          "evalue": "ignored",
          "traceback": [
            "\u001b[0;31m---------------------------------------------------------------------------\u001b[0m",
            "\u001b[0;31mValueError\u001b[0m                                Traceback (most recent call last)",
            "\u001b[0;32m<ipython-input-31-1180399f5e9c>\u001b[0m in \u001b[0;36m<module>\u001b[0;34m()\u001b[0m\n\u001b[1;32m      3\u001b[0m     \u001b[0mprint\u001b[0m\u001b[0;34m(\u001b[0m\u001b[0;34m'--- Starting training: {}'\u001b[0m\u001b[0;34m.\u001b[0m\u001b[0mformat\u001b[0m\u001b[0;34m(\u001b[0m\u001b[0mVERSION\u001b[0m\u001b[0;34m)\u001b[0m\u001b[0;34m)\u001b[0m\u001b[0;34m\u001b[0m\u001b[0;34m\u001b[0m\u001b[0m\n\u001b[1;32m      4\u001b[0m     \u001b[0mWEIGHT_LOSS\u001b[0m\u001b[0;34m[\u001b[0m\u001b[0;34m'content_loss'\u001b[0m\u001b[0;34m]\u001b[0m \u001b[0;34m=\u001b[0m \u001b[0m_WEIGHT_CONTENT_LOSS\u001b[0m\u001b[0;34m\u001b[0m\u001b[0;34m\u001b[0m\u001b[0m\n\u001b[0;32m----> 5\u001b[0;31m     \u001b[0mwgan\u001b[0m\u001b[0;34m.\u001b[0m\u001b[0mfit\u001b[0m\u001b[0;34m(\u001b[0m\u001b[0mtrain_images\u001b[0m\u001b[0;34m,\u001b[0m \u001b[0mepochs\u001b[0m\u001b[0;34m=\u001b[0m\u001b[0mNUM_EPOCHS\u001b[0m\u001b[0;34m,\u001b[0m \u001b[0mcallbacks\u001b[0m\u001b[0;34m=\u001b[0m\u001b[0;34m[\u001b[0m\u001b[0mGANMonitor\u001b[0m\u001b[0;34m(\u001b[0m\u001b[0mnum_img\u001b[0m\u001b[0;34m=\u001b[0m\u001b[0;36m16\u001b[0m\u001b[0;34m,\u001b[0m \u001b[0mlatent_dim\u001b[0m\u001b[0;34m=\u001b[0m\u001b[0mLATENT_DIM\u001b[0m\u001b[0;34m)\u001b[0m\u001b[0;34m]\u001b[0m\u001b[0;34m)\u001b[0m\u001b[0;34m\u001b[0m\u001b[0;34m\u001b[0m\u001b[0m\n\u001b[0m",
            "\u001b[0;32m/usr/local/lib/python3.7/dist-packages/keras/utils/traceback_utils.py\u001b[0m in \u001b[0;36merror_handler\u001b[0;34m(*args, **kwargs)\u001b[0m\n\u001b[1;32m     65\u001b[0m     \u001b[0;32mexcept\u001b[0m \u001b[0mException\u001b[0m \u001b[0;32mas\u001b[0m \u001b[0me\u001b[0m\u001b[0;34m:\u001b[0m  \u001b[0;31m# pylint: disable=broad-except\u001b[0m\u001b[0;34m\u001b[0m\u001b[0;34m\u001b[0m\u001b[0m\n\u001b[1;32m     66\u001b[0m       \u001b[0mfiltered_tb\u001b[0m \u001b[0;34m=\u001b[0m \u001b[0m_process_traceback_frames\u001b[0m\u001b[0;34m(\u001b[0m\u001b[0me\u001b[0m\u001b[0;34m.\u001b[0m\u001b[0m__traceback__\u001b[0m\u001b[0;34m)\u001b[0m\u001b[0;34m\u001b[0m\u001b[0;34m\u001b[0m\u001b[0m\n\u001b[0;32m---> 67\u001b[0;31m       \u001b[0;32mraise\u001b[0m \u001b[0me\u001b[0m\u001b[0;34m.\u001b[0m\u001b[0mwith_traceback\u001b[0m\u001b[0;34m(\u001b[0m\u001b[0mfiltered_tb\u001b[0m\u001b[0;34m)\u001b[0m \u001b[0;32mfrom\u001b[0m \u001b[0;32mNone\u001b[0m\u001b[0;34m\u001b[0m\u001b[0;34m\u001b[0m\u001b[0m\n\u001b[0m\u001b[1;32m     68\u001b[0m     \u001b[0;32mfinally\u001b[0m\u001b[0;34m:\u001b[0m\u001b[0;34m\u001b[0m\u001b[0;34m\u001b[0m\u001b[0m\n\u001b[1;32m     69\u001b[0m       \u001b[0;32mdel\u001b[0m \u001b[0mfiltered_tb\u001b[0m\u001b[0;34m\u001b[0m\u001b[0;34m\u001b[0m\u001b[0m\n",
            "\u001b[0;32m<ipython-input-24-44c82f34fcac>\u001b[0m in \u001b[0;36mon_epoch_end\u001b[0;34m(self, epoch, logs)\u001b[0m\n\u001b[1;32m     12\u001b[0m         \u001b[0m_patchB\u001b[0m \u001b[0;34m=\u001b[0m \u001b[0mlist\u001b[0m\u001b[0;34m(\u001b[0m\u001b[0;34m[\u001b[0m\u001b[0mimg\u001b[0m\u001b[0;34m[\u001b[0m\u001b[0;36m1\u001b[0m\u001b[0;34m]\u001b[0m \u001b[0;32mfor\u001b[0m \u001b[0mimg\u001b[0m \u001b[0;32min\u001b[0m \u001b[0mlist\u001b[0m\u001b[0;34m(\u001b[0m\u001b[0mdataset\u001b[0m\u001b[0;34m.\u001b[0m\u001b[0mas_numpy_iterator\u001b[0m\u001b[0;34m(\u001b[0m\u001b[0;34m)\u001b[0m\u001b[0;34m)\u001b[0m\u001b[0;34m]\u001b[0m\u001b[0;34m)\u001b[0m\u001b[0;34m[\u001b[0m\u001b[0;36m0\u001b[0m\u001b[0;34m]\u001b[0m \u001b[0;31m#[random.choice(sequence)]\u001b[0m\u001b[0;34m\u001b[0m\u001b[0;34m\u001b[0m\u001b[0m\n\u001b[1;32m     13\u001b[0m         generated_images = self.model.generator([_patchA, \n\u001b[0;32m---> 14\u001b[0;31m                                                  _patchB])\n\u001b[0m\u001b[1;32m     15\u001b[0m \u001b[0;34m\u001b[0m\u001b[0m\n\u001b[1;32m     16\u001b[0m         \u001b[0;32mif\u001b[0m \u001b[0;34m(\u001b[0m\u001b[0mepoch\u001b[0m\u001b[0;34m+\u001b[0m\u001b[0;36m1\u001b[0m\u001b[0;34m)\u001b[0m\u001b[0;34m%\u001b[0m\u001b[0;36m20\u001b[0m\u001b[0;34m==\u001b[0m\u001b[0;36m0\u001b[0m\u001b[0;34m:\u001b[0m\u001b[0;34m\u001b[0m\u001b[0;34m\u001b[0m\u001b[0m\n",
            "\u001b[0;31mValueError\u001b[0m: Layer \"generator\" expects 1 input(s), but it received 2 input tensors. Inputs received: [<tf.Tensor: shape=(1, 64, 64, 3), dtype=float32, numpy=\narray([[[[-0.16078432, -0.62352943, -0.5764706 ],\n         [-0.16862746, -0.6313726 , -0.6       ],\n         [-0.16078432, -0.6392157 , -0.58431375],\n         ...,\n         [-0.21568628, -0.6862745 , -0.62352943],\n         [-0.19215687, -0.6392157 , -0.5921569 ],\n         [-0.20784314, -0.6392157 , -0.6       ]],\n\n        [[-0.16862746, -0.60784316, -0.58431375],\n         [-0.1764706 , -0.654902  , -0.6156863 ],\n         [-0.22352941, -0.654902  , -0.6313726 ],\n         ...,\n         [-0.21568628, -0.6313726 , -0.58431375],\n         [-0.21568628, -0.64705884, -0.6       ],\n         [-0.20784314, -0.64705884, -0.5764706 ]],\n\n        [[-0.1764706 , -0.62352943, -0.5764706 ],\n         [-0.15294118, -0.6156863 , -0.58431375],\n         [-0.21568628, -0.64705884, -0.60784316],\n         ...,\n         [-0.18431373, -0.64705884, -0.6       ],\n         [-0.16862746, -0.60784316, -0.58431375],\n         [-0.23137255, -0.6627451 , -0.6392157 ]],\n\n        ...,\n\n        [[-0.2       , -0.5921569 , -0.5686275 ],\n         [-0.12941177, -0.5921569 , -0.54509807],\n         [-0.12941177, -0.60784316, -0.54509807],\n         ...,\n         [-0.16862746, -0.6313726 , -0.6       ],\n         [-0.16862746, -0.6313726 , -0.6       ],\n         [-0.14509805, -0.60784316, -0.5764706 ]],\n\n        [[-0.22352941, -0.654902  , -0.60784316],\n         [-0.16078432, -0.60784316, -0.5529412 ],\n         [-0.2       , -0.64705884, -0.5921569 ],\n         ...,\n         [-0.2       , -0.654902  , -0.6627451 ],\n         [-0.16862746, -0.6313726 , -0.6156863 ],\n         [-0.16862746, -0.6156863 , -0.5686275 ]],\n\n        [[-0.2       , -0.6313726 , -0.58431375],\n         [-0.2       , -0.6313726 , -0.58431375],\n         [-0.19215687, -0.60784316, -0.56078434],\n         ...,\n         [-0.21568628, -0.654902  , -0.6627451 ],\n         [-0.16862746, -0.60784316, -0.6       ],\n         [-0.16078432, -0.6       , -0.5764706 ]]]], dtype=float32)>, <tf.Tensor: shape=(1, 64, 64, 3), dtype=float32, numpy=\narray([[[[-0.64705884, -0.64705884, -0.45882353],\n         [-0.5137255 , -0.58431375, -0.43529412],\n         [-0.23921569, -0.34901962, -0.24705882],\n         ...,\n         [-0.7019608 , -0.654902  , -0.46666667],\n         [-0.75686276, -0.67058825, -0.49803922],\n         [-0.75686276, -0.6784314 , -0.48235294]],\n\n        [[-0.7411765 , -0.6862745 , -0.54509807],\n         [-0.7019608 , -0.654902  , -0.46666667],\n         [-0.7490196 , -0.7019608 , -0.5137255 ],\n         ...,\n         [-0.6862745 , -0.67058825, -0.5686275 ],\n         [-0.73333335, -0.67058825, -0.52156866],\n         [-0.75686276, -0.64705884, -0.44313726]],\n\n        [[-0.7882353 , -0.64705884, -0.45882353],\n         [-0.7254902 , -0.7176471 , -0.5764706 ],\n         [-0.6627451 , -0.69411767, -0.5764706 ],\n         ...,\n         [-0.54509807, -0.6313726 , -0.52156866],\n         [-0.7176471 , -0.67058825, -0.49803922],\n         [-0.7411765 , -0.64705884, -0.44313726]],\n\n        ...,\n\n        [[-0.09019608, -0.30980393, -0.21568628],\n         [ 0.6       ,  0.5137255 ,  0.49803922],\n         [ 0.67058825,  0.64705884,  0.5764706 ],\n         ...,\n         [-0.2784314 , -0.3254902 , -0.29411766],\n         [-0.6627451 , -0.67058825, -0.56078434],\n         [-0.7176471 , -0.62352943, -0.41960785]],\n\n        [[-0.3254902 , -0.5137255 , -0.40392157],\n         [ 0.49019608,  0.4117647 ,  0.34117648],\n         [ 0.70980394,  0.7019608 ,  0.56078434],\n         ...,\n         [-0.58431375, -0.62352943, -0.64705884],\n         [-0.62352943, -0.6156863 , -0.58431375],\n         [-0.78039217, -0.6627451 , -0.5137255 ]],\n\n        [[-0.46666667, -0.60784316, -0.43529412],\n         [ 0.01960784, -0.07450981, -0.07450981],\n         [ 0.2       ,  0.11372549,  0.06666667],\n         ...,\n         [ 0.5137255 ,  0.09803922,  0.03529412],\n         [ 0.3882353 ,  0.03529412,  0.05882353],\n         [-0.49019608, -0.7254902 , -0.5372549 ]]]], dtype=float32)>]"
          ]
        }
      ],
      "source": [
        "for _WEIGHT_CONTENT_LOSS in LIST_WEIGHT_CONTENT_LOSS:\n",
        "    VERSION = \"ContentLoss-{}\".format(_WEIGHT_CONTENT_LOSS) # Version\n",
        "    print('--- Starting training: {}'.format(VERSION))\n",
        "    WEIGHT_LOSS['content_loss'] = _WEIGHT_CONTENT_LOSS\n",
        "    wgan.fit(train_images, epochs=NUM_EPOCHS, callbacks=[GANMonitor(num_img=16, latent_dim=LATENT_DIM)])"
      ]
    },
    {
      "cell_type": "code",
      "execution_count": null,
      "metadata": {
        "id": "Ikn9UtzJKImE"
      },
      "outputs": [],
      "source": [
        ""
      ]
    }
  ],
  "metadata": {
    "kernelspec": {
      "display_name": "Python 3",
      "language": "python",
      "name": "python3"
    },
    "language_info": {
      "codemirror_mode": {
        "name": "ipython",
        "version": 3
      },
      "file_extension": ".py",
      "mimetype": "text/x-python",
      "name": "python",
      "nbconvert_exporter": "python",
      "pygments_lexer": "ipython3",
      "version": "3.8.5"
    },
    "colab": {
      "name": "WGAN_Two Patches.ipynb",
      "provenance": [],
      "include_colab_link": true
    }
  },
  "nbformat": 4,
  "nbformat_minor": 0
}